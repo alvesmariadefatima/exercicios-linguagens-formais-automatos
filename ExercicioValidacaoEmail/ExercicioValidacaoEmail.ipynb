{
  "nbformat": 4,
  "nbformat_minor": 0,
  "metadata": {
    "colab": {
      "provenance": []
    },
    "kernelspec": {
      "name": "python3",
      "display_name": "Python 3"
    },
    "language_info": {
      "name": "python"
    }
  },
  "cells": [
    {
      "cell_type": "code",
      "execution_count": null,
      "metadata": {
        "id": "94CXc73-_hzc"
      },
      "outputs": [],
      "source": [
        "# https://docs.python.org/3/library/re.html\n",
        "\n",
        "import re\n",
        "\n",
        "def validar_email(email):\n",
        "    # Expressão regular para validar o e-mail\n",
        "    padrao = r'^[a-zA-Z0-9]+[\\w._]*@[a-zA-Z]+\\.(com|edu|org)(\\.br)?$'\n",
        "    # Verifica se o e-mail corresponde ao padrão\n",
        "    if re.match(padrao, email):\n",
        "        return True\n",
        "    else:\n",
        "        return False\n",
        "\n",
        "def main():\n",
        "    # Solicita ao usuário que digite o e-mail\n",
        "    email = input(\"Digite o e-mail: \")\n",
        "    # Verifica se o e-mail é válido\n",
        "    if validar_email(email):\n",
        "        print(\"E-mail válido!\")\n",
        "    else:\n",
        "        print(\"E-mail inválido!\")\n",
        "\n",
        "if __name__ == \"__main__\":\n",
        "    main()"
      ]
    }
  ]
}